{
  "cells": [
    {
      "cell_type": "markdown",
      "metadata": {
        "id": "ERz38PBPj9VJ"
      },
      "source": [
        "## 1.Kütüphaneler\n"
      ]
    },
    {
      "cell_type": "code",
      "execution_count": 1,
      "metadata": {
        "id": "r5JEP2Dkji8m"
      },
      "outputs": [],
      "source": [
        "import numpy as np\n",
        "import pandas as pd\n",
        "\n",
        "import matplotlib.pyplot as plt\n",
        "import seaborn as sns\n",
        "\n",
        "from sklearn.ensemble import GradientBoostingClassifier,RandomForestClassifier\n",
        "from sklearn.model_selection import train_test_split,cross_val_score,GridSearchCV\n",
        "from sklearn.neighbors import KNeighborsClassifier\n",
        "from sklearn.tree import DecisionTreeClassifier\n",
        "from sklearn.svm import SVC\n",
        "\n",
        "from sklearn.metrics import accuracy_score,f1_score,recall_score,precision_score,confusion_matrix,roc_curve,roc_auc_score,auc\n",
        "\n",
        "from tensorflow.keras.utils import to_categorical\n",
        "import tensorflow as tf\n",
        "\n",
        "import warnings\n",
        "warnings.filterwarnings(\"ignore\")\n"
      ]
    },
    {
      "cell_type": "code",
      "execution_count": 2,
      "metadata": {
        "id": "J5Aqr6Lybzpu"
      },
      "outputs": [],
      "source": [
        "#tf.keras.datasets."
      ]
    },
    {
      "cell_type": "markdown",
      "metadata": {
        "id": "Uu3vc32gkqv9"
      },
      "source": [
        "## 2. Veri setini yükle"
      ]
    },
    {
      "cell_type": "code",
      "execution_count": 3,
      "metadata": {
        "colab": {
          "base_uri": "https://localhost:8080/"
        },
        "id": "pOPGConukgnb",
        "outputId": "2a53cfef-c174-4e14-8fad-01c24b890273"
      },
      "outputs": [
        {
          "output_type": "stream",
          "name": "stdout",
          "text": [
            "Downloading data from https://storage.googleapis.com/tensorflow/tf-keras-datasets/train-labels-idx1-ubyte.gz\n",
            "29515/29515 [==============================] - 0s 0us/step\n",
            "Downloading data from https://storage.googleapis.com/tensorflow/tf-keras-datasets/train-images-idx3-ubyte.gz\n",
            "26421880/26421880 [==============================] - 0s 0us/step\n",
            "Downloading data from https://storage.googleapis.com/tensorflow/tf-keras-datasets/t10k-labels-idx1-ubyte.gz\n",
            "5148/5148 [==============================] - 0s 0us/step\n",
            "Downloading data from https://storage.googleapis.com/tensorflow/tf-keras-datasets/t10k-images-idx3-ubyte.gz\n",
            "4422102/4422102 [==============================] - 0s 0us/step\n"
          ]
        }
      ],
      "source": [
        "mnist=tf.keras.datasets.fashion_mnist\n",
        "\n",
        "(X_train,y_train),(X_test,y_test) = mnist.load_data()"
      ]
    },
    {
      "cell_type": "code",
      "execution_count": 4,
      "metadata": {
        "colab": {
          "base_uri": "https://localhost:8080/"
        },
        "id": "S-9pKsr4lc1S",
        "outputId": "021e91ad-d8a1-480c-8470-b38bcf8cef19"
      },
      "outputs": [
        {
          "output_type": "stream",
          "name": "stdout",
          "text": [
            "(60000, 28, 28) {(60000,)}\n",
            "(10000, 28, 28) {(10000,)}\n"
          ]
        }
      ],
      "source": [
        "print(f\"{X_train.shape}\", {y_train.shape})\n",
        "print(f\"{X_test.shape}\", {y_test.shape})"
      ]
    },
    {
      "cell_type": "code",
      "execution_count": 5,
      "metadata": {
        "colab": {
          "base_uri": "https://localhost:8080/",
          "height": 430
        },
        "id": "LtcbblNrlwxm",
        "outputId": "74353fc7-db6e-4415-d930-989a14329e3c"
      },
      "outputs": [
        {
          "output_type": "display_data",
          "data": {
            "text/plain": [
              "<Figure size 640x480 with 1 Axes>"
            ],
            "image/png": "[encoded data removed]"
          },
          "metadata": {}
        }
      ],
      "source": [
        "## Verileri görselleştirelim(rastgele)\n",
        "\n",
        "plt.figure()\n",
        "plt.imshow(X_train[0])\n",
        "#plt.colorbar()\n",
        "plt.grid(False)\n",
        "plt.show()"
      ]
    },
    {
      "cell_type": "code",
      "execution_count": 6,
      "metadata": {
        "colab": {
          "base_uri": "https://localhost:8080/",
          "height": 430
        },
        "id": "5IhhP9JimIUd",
        "outputId": "5d6a088e-899b-4cb0-ad9b-3c6370200169"
      },
      "outputs": [
        {
          "output_type": "display_data",
          "data": {
            "text/plain": [
              "<Figure size 640x480 with 2 Axes>"
            ],
            "image/png": "[encoded data removed]"
          },
          "metadata": {}
        }
      ],
      "source": [
        "## Verileri görselleştirelim(rastgele)\n",
        "plt.figure()\n",
        "plt.imshow(X_train[3])\n",
        "plt.colorbar()\n",
        "plt.grid(False)\n",
        "plt.show()"
      ]
    },
    {
      "cell_type": "markdown",
      "metadata": {
        "id": "XMyEIBmZmqRk"
      },
      "source": [
        "## 3. Verileri Normalleştirelim"
      ]
    },
    {
      "cell_type": "code",
      "execution_count": 7,
      "metadata": {
        "id": "jZ-oNSdAmnH7"
      },
      "outputs": [],
      "source": [
        "# Verileri 0-1 arasına sıkıştıralım\n",
        "# Neden 255 e böldük?\n",
        "\n",
        "X_train = X_train / 255.0\n",
        "\n",
        "X_test = X_test / 255.0"
      ]
    },
    {
      "cell_type": "code",
      "execution_count": 8,
      "metadata": {
        "colab": {
          "base_uri": "https://localhost:8080/",
          "height": 807
        },
        "id": "cqSKjLt3m_Zi",
        "outputId": "1db2e26c-41e8-4531-9543-3f99aaef6816"
      },
      "outputs": [
        {
          "output_type": "display_data",
          "data": {
            "text/plain": [
              "<Figure size 1000x1000 with 30 Axes>"
            ],
            "image/png": "[encoded data removed]"
          },
          "metadata": {}
        }
      ],
      "source": [
        "## 30 görüntüyü görselleştirelim\n",
        "\n",
        "plt.figure(figsize=(10,10))\n",
        "\n",
        "for i in range(30):\n",
        "    plt.subplot(6,5,i+1)\n",
        "    plt.xticks([])\n",
        "    plt.yticks([])\n",
        "    plt.grid(False)\n",
        "    plt.imshow(X_train[i], cmap=plt.cm.binary)\n",
        "plt.show()"
      ]
    },
    {
      "cell_type": "markdown",
      "metadata": {
        "id": "82c4BncVoON0"
      },
      "source": [
        "### 4. Makine Öğrenmesi Modeli Oluşturma"
      ]
    },
    {
      "cell_type": "code",
      "execution_count": 9,
      "metadata": {
        "colab": {
          "base_uri": "https://localhost:8080/"
        },
        "id": "7UWpMmnBp0FE",
        "outputId": "3aa05f10-31ea-4d46-8379-516551699d41"
      },
      "outputs": [
        {
          "output_type": "execute_result",
          "data": {
            "text/plain": [
              "60000"
            ]
          },
          "metadata": {},
          "execution_count": 9
        }
      ],
      "source": [
        "X_train.shape[0]"
      ]
    },
    {
      "cell_type": "code",
      "execution_count": 10,
      "metadata": {
        "id": "2U2fMazTpRkg"
      },
      "outputs": [],
      "source": [
        "# Verileri 28x28 görüntü formatından 784 özellikli vektörlere düzleştirelim\n",
        "X_train = X_train.reshape(X_train.shape[0], -1)\n",
        "X_test = X_test.reshape(X_test.shape[0], -1)"
      ]
    },
    {
      "cell_type": "code",
      "execution_count": 11,
      "metadata": {
        "id": "lpQC484sM3-m"
      },
      "outputs": [],
      "source": [
        "## X_train.shape[0] veri setindeki örnek sayısı,\n",
        "# Makine Öğrenmesi modelleri verileri tek boyutlu vektörler olarak alır. 28*28 boyutundaki görüntü 784 özellikli vektöre dönüştürülür. (28*28=784)\n",
        "# Burdaki -1 kalan boyutu otomotik olarak hesaplar, istersek şu şekilde yapabilirdik; (ikisi aynı sonucu verir)\n",
        "\n",
        "#X_train = X_train.reshape(X_train.shape[0], 28 * 28)\n",
        "# X_train.reshape(60000,784)\n",
        "#X_test = X_test.reshape(X_test.shape[0], 28 * 28)\n"
      ]
    },
    {
      "cell_type": "code",
      "execution_count": 12,
      "metadata": {
        "id": "sCdOz5_HfcDc"
      },
      "outputs": [],
      "source": [
        "#?KNeighborsClassifier"
      ]
    },
    {
      "cell_type": "code",
      "execution_count": 13,
      "metadata": {
        "id": "vFUqIfndoGoQ"
      },
      "outputs": [],
      "source": [
        "## KNN modeli\n",
        "\n",
        "knn=KNeighborsClassifier().fit(X_train,y_train)"
      ]
    },
    {
      "cell_type": "code",
      "execution_count": 14,
      "metadata": {
        "id": "94z68FnFoxhz"
      },
      "outputs": [],
      "source": [
        "y_pred=knn.predict(X_test)\n",
        "\n",
        "\n",
        "acc=accuracy_score(y_test,y_pred)\n",
        "f1=f1_score(y_test,y_pred, average='weighted')\n",
        "recall=recall_score(y_test,y_pred, average='weighted')\n",
        "precision=precision_score(y_test,y_pred, average='weighted')"
      ]
    },
    {
      "cell_type": "code",
      "execution_count": 15,
      "metadata": {
        "colab": {
          "base_uri": "https://localhost:8080/"
        },
        "id": "2A9S4WBori7X",
        "outputId": "ac1dcd8c-06d0-4c3a-a59e-4664cfb072bf"
      },
      "outputs": [
        {
          "output_type": "execute_result",
          "data": {
            "text/plain": [
              "0.8554"
            ]
          },
          "metadata": {},
          "execution_count": 15
        }
      ],
      "source": [
        "acc"
      ]
    },
    {
      "cell_type": "code",
      "execution_count": 16,
      "metadata": {
        "colab": {
          "base_uri": "https://localhost:8080/"
        },
        "id": "fiTkpO5xsdHG",
        "outputId": "f8ca73b7-4a35-4b02-8501-a4bbf3c2515f"
      },
      "outputs": [
        {
          "output_type": "execute_result",
          "data": {
            "text/plain": [
              "0.8546439722018904"
            ]
          },
          "metadata": {},
          "execution_count": 16
        }
      ],
      "source": [
        "f1"
      ]
    },
    {
      "cell_type": "code",
      "execution_count": 17,
      "metadata": {
        "colab": {
          "base_uri": "https://localhost:8080/"
        },
        "id": "UijtIcwTsd3r",
        "outputId": "c669d6be-b856-4005-977a-fb385973d77f"
      },
      "outputs": [
        {
          "output_type": "execute_result",
          "data": {
            "text/plain": [
              "0.8554"
            ]
          },
          "metadata": {},
          "execution_count": 17
        }
      ],
      "source": [
        "recall"
      ]
    },
    {
      "cell_type": "code",
      "execution_count": 18,
      "metadata": {
        "colab": {
          "base_uri": "https://localhost:8080/"
        },
        "id": "RexIb5_xsfWM",
        "outputId": "ce229071-4d34-4c28-eccc-d549378b4e5d"
      },
      "outputs": [
        {
          "output_type": "execute_result",
          "data": {
            "text/plain": [
              "0.8578152450755355"
            ]
          },
          "metadata": {},
          "execution_count": 18
        }
      ],
      "source": [
        "precision"
      ]
    },
    {
      "cell_type": "code",
      "execution_count": 21,
      "metadata": {
        "id": "QzP2iPDHsgse"
      },
      "outputs": [],
      "source": [
        "## Random Forest oluştur"
      ]
    },
    {
      "cell_type": "code",
      "execution_count": 22,
      "metadata": {
        "colab": {
          "base_uri": "https://localhost:8080/",
          "height": 75
        },
        "id": "ZbXgoxk3slvv",
        "outputId": "95c2b142-b5e7-4418-840c-b33cd709c76e"
      },
      "outputs": [
        {
          "output_type": "execute_result",
          "data": {
            "text/plain": [
              "RandomForestClassifier(random_state=42)"
            ],
            "text/html": [
              "<style>#sk-container-id-1 {color: black;background-color: white;}#sk-container-id-1 pre{padding: 0;}#sk-container-id-1 div.sk-toggleable {background-color: white;}#sk-container-id-1 label.sk-toggleable__label {cursor: pointer;display: block;width: 100%;margin-bottom: 0;padding: 0.3em;box-sizing: border-box;text-align: center;}#sk-container-id-1 label.sk-toggleable__label-arrow:before {content: \"▸\";float: left;margin-right: 0.25em;color: #696969;}#sk-container-id-1 label.sk-toggleable__label-arrow:hover:before {color: black;}#sk-container-id-1 div.sk-estimator:hover label.sk-toggleable__label-arrow:before {color: black;}#sk-container-id-1 div.sk-toggleable__content {max-height: 0;max-width: 0;overflow: hidden;text-align: left;background-color: #f0f8ff;}#sk-container-id-1 div.sk-toggleable__content pre {margin: 0.2em;color: black;border-radius: 0.25em;background-color: #f0f8ff;}#sk-container-id-1 input.sk-toggleable__control:checked~div.sk-toggleable__content {max-height: 200px;max-width: 100%;overflow: auto;}#sk-container-id-1 input.sk-toggleable__control:checked~label.sk-toggleable__label-arrow:before {content: \"▾\";}#sk-container-id-1 div.sk-estimator input.sk-toggleable__control:checked~label.sk-toggleable__label {background-color: #d4ebff;}#sk-container-id-1 div.sk-label input.sk-toggleable__control:checked~label.sk-toggleable__label {background-color: #d4ebff;}#sk-container-id-1 input.sk-hidden--visually {border: 0;clip: rect(1px 1px 1px 1px);clip: rect(1px, 1px, 1px, 1px);height: 1px;margin: -1px;overflow: hidden;padding: 0;position: absolute;width: 1px;}#sk-container-id-1 div.sk-estimator {font-family: monospace;background-color: #f0f8ff;border: 1px dotted black;border-radius: 0.25em;box-sizing: border-box;margin-bottom: 0.5em;}#sk-container-id-1 div.sk-estimator:hover {background-color: #d4ebff;}#sk-container-id-1 div.sk-parallel-item::after {content: \"\";width: 100%;border-bottom: 1px solid gray;flex-grow: 1;}#sk-container-id-1 div.sk-label:hover label.sk-toggleable__label {background-color: #d4ebff;}#sk-container-id-1 div.sk-serial::before {content: \"\";position: absolute;border-left: 1px solid gray;box-sizing: border-box;top: 0;bottom: 0;left: 50%;z-index: 0;}#sk-container-id-1 div.sk-serial {display: flex;flex-direction: column;align-items: center;background-color: white;padding-right: 0.2em;padding-left: 0.2em;position: relative;}#sk-container-id-1 div.sk-item {position: relative;z-index: 1;}#sk-container-id-1 div.sk-parallel {display: flex;align-items: stretch;justify-content: center;background-color: white;position: relative;}#sk-container-id-1 div.sk-item::before, #sk-container-id-1 div.sk-parallel-item::before {content: \"\";position: absolute;border-left: 1px solid gray;box-sizing: border-box;top: 0;bottom: 0;left: 50%;z-index: -1;}#sk-container-id-1 div.sk-parallel-item {display: flex;flex-direction: column;z-index: 1;position: relative;background-color: white;}#sk-container-id-1 div.sk-parallel-item:first-child::after {align-self: flex-end;width: 50%;}#sk-container-id-1 div.sk-parallel-item:last-child::after {align-self: flex-start;width: 50%;}#sk-container-id-1 div.sk-parallel-item:only-child::after {width: 0;}#sk-container-id-1 div.sk-dashed-wrapped {border: 1px dashed gray;margin: 0 0.4em 0.5em 0.4em;box-sizing: border-box;padding-bottom: 0.4em;background-color: white;}#sk-container-id-1 div.sk-label label {font-family: monospace;font-weight: bold;display: inline-block;line-height: 1.2em;}#sk-container-id-1 div.sk-label-container {text-align: center;}#sk-container-id-1 div.sk-container {/* jupyter's `normalize.less` sets `[hidden] { display: none; }` but bootstrap.min.css set `[hidden] { display: none !important; }` so we also need the `!important` here to be able to override the default hidden behavior on the sphinx rendered scikit-learn.org. See: https://github.com/scikit-learn/scikit-learn/issues/21755 */display: inline-block !important;position: relative;}#sk-container-id-1 div.sk-text-repr-fallback {display: none;}</style><div id=\"sk-container-id-1\" class=\"sk-top-container\"><div class=\"sk-text-repr-fallback\"><pre>RandomForestClassifier(random_state=42)</pre><b>In a Jupyter environment, please rerun this cell to show the HTML representation or trust the notebook. <br />On GitHub, the HTML representation is unable to render, please try loading this page with nbviewer.org.</b></div><div class=\"sk-container\" hidden><div class=\"sk-item\"><div class=\"sk-estimator sk-toggleable\"><input class=\"sk-toggleable__control sk-hidden--visually\" id=\"sk-estimator-id-1\" type=\"checkbox\" checked><label for=\"sk-estimator-id-1\" class=\"sk-toggleable__label sk-toggleable__label-arrow\">RandomForestClassifier</label><div class=\"sk-toggleable__content\"><pre>RandomForestClassifier(random_state=42)</pre></div></div></div></div></div>"
            ]
          },
          "metadata": {},
          "execution_count": 22
        }
      ],
      "source": [
        "from sklearn.ensemble import RandomForestClassifier\n",
        "\n",
        "#n_estimatorsolusturlacak agac sayisi\n",
        "rf_model = RandomForestClassifier(n_estimators=100, random_state=42)\n",
        "rf_model.fit(X_train, y_train)"
      ]
    },
    {
      "cell_type": "code",
      "execution_count": 23,
      "metadata": {
        "id": "6YE-iS9-M9Xh"
      },
      "outputs": [],
      "source": [
        "y_pred=knn.predict(X_test)\n",
        "\n",
        "\n",
        "acc=accuracy_score(y_test,y_pred)\n",
        "f1=f1_score(y_test,y_pred, average='weighted')\n",
        "recall=recall_score(y_test,y_pred, average='weighted')\n",
        "precision=precision_score(y_test,y_pred, average='weighted')"
      ]
    },
    {
      "cell_type": "code",
      "execution_count": 24,
      "metadata": {
        "colab": {
          "base_uri": "https://localhost:8080/"
        },
        "id": "jf61uplENFMZ",
        "outputId": "69193c0f-c696-468d-e15a-495f6d810397"
      },
      "outputs": [
        {
          "output_type": "stream",
          "name": "stdout",
          "text": [
            "0.8554\n",
            "0.8546439722018904\n",
            "0.8554\n",
            "0.8578152450755355\n"
          ]
        }
      ],
      "source": [
        "print(acc)\n",
        "print(f1)\n",
        "print(recall)\n",
        "print(precision)"
      ]
    },
    {
      "cell_type": "code",
      "execution_count": 26,
      "metadata": {
        "id": "6gZyltaUsnfN"
      },
      "outputs": [],
      "source": [
        "## Karar Ağacı oluştur"
      ]
    },
    {
      "cell_type": "code",
      "execution_count": 27,
      "metadata": {
        "colab": {
          "base_uri": "https://localhost:8080/"
        },
        "id": "CBFTPEa6snU-",
        "outputId": "1f1d8f36-0631-4973-c87e-cb7454c14871"
      },
      "outputs": [
        {
          "output_type": "stream",
          "name": "stdout",
          "text": [
            "0.7888\n",
            "0.7896654287555152\n",
            "0.7888\n",
            "0.7907944419130593\n"
          ]
        }
      ],
      "source": [
        "#Siniflandirma icin\n",
        "from sklearn.tree import DecisionTreeClassifier\n",
        "\n",
        "dt_model = DecisionTreeClassifier(random_state=42)\n",
        "dt_model.fit(X_train, y_train)\n",
        "\n",
        "y_pred = dt_model.predict(X_test)\n",
        "\n",
        "acc=accuracy_score(y_test,y_pred)\n",
        "f1=f1_score(y_test,y_pred, average='weighted')\n",
        "recall=recall_score(y_test,y_pred, average='weighted')\n",
        "precision=precision_score(y_test,y_pred, average='weighted')\n",
        "\n",
        "print(acc)\n",
        "print(f1)\n",
        "print(recall)\n",
        "print(precision)"
      ]
    },
    {
      "cell_type": "code",
      "execution_count": 28,
      "metadata": {
        "colab": {
          "base_uri": "https://localhost:8080/"
        },
        "id": "W0XrzGPpOfvc",
        "outputId": "6f7fb6ef-c0e7-4801-f4b4-d3e87c460ac1"
      },
      "outputs": [
        {
          "output_type": "stream",
          "name": "stdout",
          "text": [
            "0.7825\n",
            "0.7828640198338868\n",
            "0.7825\n",
            "0.7834635976607696\n"
          ]
        }
      ],
      "source": [
        "#Regresyon icin icin\n",
        "from sklearn.tree import DecisionTreeRegressor\n",
        "\n",
        "dt_model = DecisionTreeRegressor(random_state=42)\n",
        "dt_model.fit(X_train, y_train)\n",
        "\n",
        "y_pred = dt_model.predict(X_test)\n",
        "\n",
        "acc=accuracy_score(y_test,y_pred)\n",
        "f1=f1_score(y_test,y_pred, average='weighted')\n",
        "recall=recall_score(y_test,y_pred, average='weighted')\n",
        "precision=precision_score(y_test,y_pred, average='weighted')\n",
        "\n",
        "print(acc)\n",
        "print(f1)\n",
        "print(recall)\n",
        "print(precision)"
      ]
    },
    {
      "cell_type": "markdown",
      "metadata": {
        "id": "Jqf9YQ3Kvtb2"
      },
      "source": [
        "### ÖDEV: Diğer Makine öğrenmesi modelleri için uygulama yapınız"
      ]
    },
    {
      "cell_type": "code",
      "execution_count": 30,
      "metadata": {
        "colab": {
          "base_uri": "https://localhost:8080/"
        },
        "id": "0AbN0ibZvtIr",
        "outputId": "c5983d89-7fb7-449f-b95f-41e9365cfd2a"
      },
      "outputs": [
        {
          "output_type": "stream",
          "name": "stdout",
          "text": [
            "Epoch 1/10\n",
            "938/938 [==============================] - 10s 6ms/step - loss: 0.5515 - accuracy: 0.7969 - val_loss: 0.4079 - val_accuracy: 0.8509\n",
            "Epoch 2/10\n",
            "938/938 [==============================] - 4s 4ms/step - loss: 0.3513 - accuracy: 0.8712 - val_loss: 0.3573 - val_accuracy: 0.8726\n",
            "Epoch 3/10\n",
            "938/938 [==============================] - 5s 5ms/step - loss: 0.2963 - accuracy: 0.8922 - val_loss: 0.3115 - val_accuracy: 0.8879\n",
            "Epoch 4/10\n",
            "938/938 [==============================] - 5s 5ms/step - loss: 0.2668 - accuracy: 0.9009 - val_loss: 0.3120 - val_accuracy: 0.8886\n",
            "Epoch 5/10\n",
            "938/938 [==============================] - 4s 4ms/step - loss: 0.2425 - accuracy: 0.9121 - val_loss: 0.2939 - val_accuracy: 0.8953\n",
            "Epoch 6/10\n",
            "938/938 [==============================] - 5s 5ms/step - loss: 0.2221 - accuracy: 0.9173 - val_loss: 0.2723 - val_accuracy: 0.8996\n",
            "Epoch 7/10\n",
            "938/938 [==============================] - 4s 4ms/step - loss: 0.2021 - accuracy: 0.9258 - val_loss: 0.2808 - val_accuracy: 0.9011\n",
            "Epoch 8/10\n",
            "938/938 [==============================] - 4s 4ms/step - loss: 0.1858 - accuracy: 0.9311 - val_loss: 0.2670 - val_accuracy: 0.9088\n",
            "Epoch 9/10\n",
            "938/938 [==============================] - 5s 5ms/step - loss: 0.1700 - accuracy: 0.9368 - val_loss: 0.2716 - val_accuracy: 0.9051\n",
            "Epoch 10/10\n",
            "938/938 [==============================] - 4s 5ms/step - loss: 0.1593 - accuracy: 0.9407 - val_loss: 0.2802 - val_accuracy: 0.9042\n",
            "313/313 - 1s - loss: 0.2802 - accuracy: 0.9042 - 644ms/epoch - 2ms/step\n",
            "Test doğruluğu: 0.90\n"
          ]
        }
      ],
      "source": [
        "import tensorflow as tf\n",
        "from tensorflow.keras import layers, models\n",
        "from tensorflow.keras.datasets import fashion_mnist\n",
        "from tensorflow.keras.utils import to_categorical\n",
        "\n",
        "# Veri setini yükleme\n",
        "(X_train, y_train), (X_test, y_test) = fashion_mnist.load_data()\n",
        "\n",
        "# Veriyi yeniden şekillendirme ve normalize etme\n",
        "X_train = X_train.reshape(X_train.shape[0], 28, 28, 1).astype('float32') / 255\n",
        "X_test = X_test.reshape(X_test.shape[0], 28, 28, 1).astype('float32') / 255\n",
        "\n",
        "# Etiketleri one-hot encoding ile dönüştürme\n",
        "y_train = to_categorical(y_train, 10)\n",
        "y_test = to_categorical(y_test, 10)\n",
        "\n",
        "# CNN modelini oluşturma\n",
        "model = models.Sequential([\n",
        "    layers.Conv2D(32, (3, 3), activation='relu', input_shape=(28, 28, 1)),\n",
        "    layers.MaxPooling2D((2, 2)),\n",
        "    layers.Conv2D(64, (3, 3), activation='relu'),\n",
        "    layers.MaxPooling2D((2, 2)),\n",
        "    layers.Conv2D(64, (3, 3), activation='relu'),\n",
        "    layers.Flatten(),\n",
        "    layers.Dense(64, activation='relu'),\n",
        "    layers.Dense(10, activation='softmax')\n",
        "])\n",
        "\n",
        "# Modeli derleme\n",
        "model.compile(optimizer='adam', loss='categorical_crossentropy', metrics=['accuracy'])\n",
        "\n",
        "# Modeli eğitme\n",
        "model.fit(X_train, y_train, epochs=10, batch_size=64, validation_data=(X_test, y_test))\n",
        "\n",
        "# Modeli değerlendirme\n",
        "test_loss, test_acc = model.evaluate(X_test, y_test, verbose=2)\n",
        "print(f'Test doğruluğu: {test_acc:.2f}')\n"
      ]
    },
    {
      "cell_type": "code",
      "execution_count": 31,
      "metadata": {
        "colab": {
          "base_uri": "https://localhost:8080/"
        },
        "id": "jV2RsOYnabSa",
        "outputId": "323cd7c4-108a-4e6c-9f64-9893deee17ce"
      },
      "outputs": [
        {
          "output_type": "stream",
          "name": "stdout",
          "text": [
            "313/313 [==============================] - 1s 2ms/step\n"
          ]
        },
        {
          "output_type": "execute_result",
          "data": {
            "text/plain": [
              "array([[862,   0,  11,  16,   3,   1, 101,   0,   6,   0],\n",
              "       [  2, 966,   0,  25,   1,   0,   4,   0,   2,   0],\n",
              "       [ 15,   1, 864,   5,  25,   0,  86,   0,   4,   0],\n",
              "       [ 17,   1,  12, 900,  19,   0,  45,   0,   6,   0],\n",
              "       [  0,   1,  75,  17, 798,   0,  97,   0,  12,   0],\n",
              "       [  0,   0,   0,   1,   0, 983,   0,  11,   0,   5],\n",
              "       [120,   0,  46,  23,  33,   1, 765,   0,  12,   0],\n",
              "       [  0,   0,   0,   0,   0,  15,   0, 974,   0,  11],\n",
              "       [  3,   1,   3,   2,   1,   2,   0,   4, 984,   0],\n",
              "       [  1,   0,   0,   0,   0,   8,   0,  45,   0, 946]])"
            ]
          },
          "metadata": {},
          "execution_count": 31
        }
      ],
      "source": [
        "y_pred=model.predict(X_test)\n",
        "\n",
        "y_pred_classes = np.argmax(y_pred, axis=1)\n",
        "y_true_classes = np.argmax(y_test, axis=1)\n",
        "\n",
        "cm = confusion_matrix(y_true_classes, y_pred_classes)\n",
        "cm"
      ]
    },
    {
      "cell_type": "markdown",
      "metadata": {
        "id": "-ihQyi8hs3Dc"
      },
      "source": [
        "## 5. YSA ile Model Eğitimi"
      ]
    },
    {
      "cell_type": "markdown",
      "metadata": {
        "id": "UEaiZhYJP67O"
      },
      "source": [
        "### BONUS :  CNN"
      ]
    },
    {
      "cell_type": "code",
      "execution_count": 32,
      "metadata": {
        "id": "RRgnSsoNuYAv"
      },
      "outputs": [],
      "source": [
        "mnist=tf.keras.datasets.fashion_mnist\n",
        "\n",
        "(X_train,y_train),(X_test,y_test) = mnist.load_data()"
      ]
    },
    {
      "cell_type": "code",
      "execution_count": 33,
      "metadata": {
        "id": "bwC7o8CGueP1"
      },
      "outputs": [],
      "source": [
        "# veri normalleştirme"
      ]
    },
    {
      "cell_type": "code",
      "execution_count": 34,
      "metadata": {
        "id": "Y-kqADOTOttE"
      },
      "outputs": [],
      "source": [
        "# burdaki -1 yine otomotik olarak uygun değeri belirliyor -1 yerine direk örnek sayısını yazabilirsiniz ör:60000 veya X_train.shape[0], X_test.shape[0]\n",
        "# 28*28 boyutlu 1 kanalı görüntüye çevirdik (gray), ayrıca veri tipini float32 yapıp normalize ettik\n",
        "# şu kodda aynı sonucu verir;\n",
        "\n",
        "X_train = X_train.reshape(X_train.shape[0], 28, 28, 1).astype('float32') / 255.0\n",
        "X_test = X_test.reshape(X_test.shape[0], 28, 28, 1).astype('float32') / 255.0\n"
      ]
    },
    {
      "cell_type": "code",
      "execution_count": 35,
      "metadata": {
        "id": "rUvzx8P5uX6O"
      },
      "outputs": [],
      "source": [
        "## classlar için one hot encoding işlemi yapalım\n",
        "y_train = to_categorical(y_train, 10)\n",
        "y_test = to_categorical(y_test, 10)\n"
      ]
    },
    {
      "cell_type": "code",
      "execution_count": 36,
      "metadata": {
        "colab": {
          "base_uri": "https://localhost:8080/"
        },
        "id": "2OlaOyiRs6l-",
        "outputId": "c474648a-2de7-4521-b51d-fd28823831c6"
      },
      "outputs": [
        {
          "output_type": "stream",
          "name": "stdout",
          "text": [
            "Model: \"sequential_1\"\n",
            "_________________________________________________________________\n",
            " Layer (type)                Output Shape              Param #   \n",
            "=================================================================\n",
            " conv2d_3 (Conv2D)           (None, 26, 26, 32)        320       \n",
            "                                                                 \n",
            " batch_normalization (Batch  (None, 26, 26, 32)        128       \n",
            " Normalization)                                                  \n",
            "                                                                 \n",
            " max_pooling2d_2 (MaxPoolin  (None, 13, 13, 32)        0         \n",
            " g2D)                                                            \n",
            "                                                                 \n",
            " dropout (Dropout)           (None, 13, 13, 32)        0         \n",
            "                                                                 \n",
            " conv2d_4 (Conv2D)           (None, 11, 11, 64)        18496     \n",
            "                                                                 \n",
            " batch_normalization_1 (Bat  (None, 11, 11, 64)        256       \n",
            " chNormalization)                                                \n",
            "                                                                 \n",
            " max_pooling2d_3 (MaxPoolin  (None, 5, 5, 64)          0         \n",
            " g2D)                                                            \n",
            "                                                                 \n",
            " dropout_1 (Dropout)         (None, 5, 5, 64)          0         \n",
            "                                                                 \n",
            " conv2d_5 (Conv2D)           (None, 3, 3, 128)         73856     \n",
            "                                                                 \n",
            " batch_normalization_2 (Bat  (None, 3, 3, 128)         512       \n",
            " chNormalization)                                                \n",
            "                                                                 \n",
            " max_pooling2d_4 (MaxPoolin  (None, 1, 1, 128)         0         \n",
            " g2D)                                                            \n",
            "                                                                 \n",
            " dropout_2 (Dropout)         (None, 1, 1, 128)         0         \n",
            "                                                                 \n",
            " flatten_1 (Flatten)         (None, 128)               0         \n",
            "                                                                 \n",
            " dense_2 (Dense)             (None, 128)               16512     \n",
            "                                                                 \n",
            " batch_normalization_3 (Bat  (None, 128)               512       \n",
            " chNormalization)                                                \n",
            "                                                                 \n",
            " dropout_3 (Dropout)         (None, 128)               0         \n",
            "                                                                 \n",
            " dense_3 (Dense)             (None, 10)                1290      \n",
            "                                                                 \n",
            "=================================================================\n",
            "Total params: 111882 (437.04 KB)\n",
            "Trainable params: 111178 (434.29 KB)\n",
            "Non-trainable params: 704 (2.75 KB)\n",
            "_________________________________________________________________\n"
          ]
        }
      ],
      "source": [
        "model = models.Sequential([\n",
        "    # İlk Konvolüsyonel Katman\n",
        "    layers.Conv2D(32, (3, 3), activation='relu', input_shape=(28, 28, 1)),\n",
        "    layers.BatchNormalization(),\n",
        "    layers.MaxPooling2D((2, 2)),\n",
        "    layers.Dropout(0.25),\n",
        "\n",
        "    # İkinci Konvolüsyonel Katman\n",
        "    layers.Conv2D(64, (3, 3), activation='relu'),\n",
        "    layers.BatchNormalization(),\n",
        "    layers.MaxPooling2D((2, 2)),\n",
        "    layers.Dropout(0.25),\n",
        "\n",
        "    # Üçüncü Konvolüsyonel Katman\n",
        "    layers.Conv2D(128, (3, 3), activation='relu'),\n",
        "    layers.BatchNormalization(),\n",
        "    layers.MaxPooling2D((2, 2)),\n",
        "    layers.Dropout(0.25),\n",
        "\n",
        "    # Tam Bağlantılı Katmanlar\n",
        "    layers.Flatten(),\n",
        "    layers.Dense(128, activation='relu'),\n",
        "    layers.BatchNormalization(),\n",
        "    layers.Dropout(0.5),\n",
        "\n",
        "    # Çıkış Katmanı\n",
        "    layers.Dense(10, activation='softmax')\n",
        "])\n",
        "\n",
        "model.summary()"
      ]
    },
    {
      "cell_type": "code",
      "execution_count": 37,
      "metadata": {
        "id": "3PXR16HHs8JD"
      },
      "outputs": [],
      "source": [
        "from tensorflow.keras.callbacks import EarlyStopping, ReduceLROnPlateau\n",
        "\n",
        "# Modeli derleme\n",
        "model.compile(optimizer='adam', loss='categorical_crossentropy', metrics=['accuracy'])\n",
        "\n",
        "# Erken durdurma ve öğrenme oranını azaltma\n",
        "early_stopping = EarlyStopping(monitor='val_loss', patience=10, restore_best_weights=True)\n",
        "reduce_lr = ReduceLROnPlateau(monitor='val_loss', factor=0.5, patience=5, min_lr=1e-6)"
      ]
    },
    {
      "cell_type": "code",
      "execution_count": 38,
      "metadata": {
        "colab": {
          "base_uri": "https://localhost:8080/"
        },
        "id": "3Dr_K4jMtCO4",
        "outputId": "eabacd3b-95d6-4dfd-b455-e0848d0c93ff"
      },
      "outputs": [
        {
          "output_type": "stream",
          "name": "stdout",
          "text": [
            "Epoch 1/50\n",
            "938/938 [==============================] - 12s 7ms/step - loss: 0.7382 - accuracy: 0.7432 - val_loss: 0.4457 - val_accuracy: 0.8353 - lr: 0.0010\n",
            "Epoch 2/50\n",
            "938/938 [==============================] - 8s 8ms/step - loss: 0.4884 - accuracy: 0.8242 - val_loss: 0.3945 - val_accuracy: 0.8575 - lr: 0.0010\n",
            "Epoch 3/50\n",
            "938/938 [==============================] - 7s 7ms/step - loss: 0.4304 - accuracy: 0.8458 - val_loss: 0.3533 - val_accuracy: 0.8686 - lr: 0.0010\n",
            "Epoch 4/50\n",
            "938/938 [==============================] - 7s 7ms/step - loss: 0.4041 - accuracy: 0.8551 - val_loss: 0.3274 - val_accuracy: 0.8767 - lr: 0.0010\n",
            "Epoch 5/50\n",
            "938/938 [==============================] - 6s 6ms/step - loss: 0.3776 - accuracy: 0.8636 - val_loss: 0.3695 - val_accuracy: 0.8575 - lr: 0.0010\n",
            "Epoch 6/50\n",
            "938/938 [==============================] - 7s 7ms/step - loss: 0.3638 - accuracy: 0.8693 - val_loss: 0.3517 - val_accuracy: 0.8689 - lr: 0.0010\n",
            "Epoch 7/50\n",
            "938/938 [==============================] - 6s 7ms/step - loss: 0.3463 - accuracy: 0.8755 - val_loss: 0.3252 - val_accuracy: 0.8775 - lr: 0.0010\n",
            "Epoch 8/50\n",
            "938/938 [==============================] - 7s 7ms/step - loss: 0.3390 - accuracy: 0.8780 - val_loss: 0.3135 - val_accuracy: 0.8782 - lr: 0.0010\n",
            "Epoch 9/50\n",
            "938/938 [==============================] - 6s 6ms/step - loss: 0.3288 - accuracy: 0.8825 - val_loss: 0.2997 - val_accuracy: 0.8926 - lr: 0.0010\n",
            "Epoch 10/50\n",
            "938/938 [==============================] - 7s 7ms/step - loss: 0.3231 - accuracy: 0.8829 - val_loss: 0.3122 - val_accuracy: 0.8855 - lr: 0.0010\n",
            "Epoch 11/50\n",
            "938/938 [==============================] - 6s 7ms/step - loss: 0.3148 - accuracy: 0.8857 - val_loss: 0.2908 - val_accuracy: 0.8922 - lr: 0.0010\n",
            "Epoch 12/50\n",
            "938/938 [==============================] - 7s 8ms/step - loss: 0.3054 - accuracy: 0.8900 - val_loss: 0.2814 - val_accuracy: 0.8957 - lr: 0.0010\n",
            "Epoch 13/50\n",
            "938/938 [==============================] - 6s 7ms/step - loss: 0.3017 - accuracy: 0.8893 - val_loss: 0.2913 - val_accuracy: 0.8930 - lr: 0.0010\n",
            "Epoch 14/50\n",
            "938/938 [==============================] - 7s 7ms/step - loss: 0.2952 - accuracy: 0.8935 - val_loss: 0.3075 - val_accuracy: 0.8881 - lr: 0.0010\n",
            "Epoch 15/50\n",
            "938/938 [==============================] - 6s 7ms/step - loss: 0.2944 - accuracy: 0.8924 - val_loss: 0.2866 - val_accuracy: 0.8959 - lr: 0.0010\n",
            "Epoch 16/50\n",
            "938/938 [==============================] - 6s 7ms/step - loss: 0.2864 - accuracy: 0.8963 - val_loss: 0.2795 - val_accuracy: 0.8991 - lr: 0.0010\n",
            "Epoch 17/50\n",
            "938/938 [==============================] - 7s 7ms/step - loss: 0.2833 - accuracy: 0.8974 - val_loss: 0.3005 - val_accuracy: 0.8878 - lr: 0.0010\n",
            "Epoch 18/50\n",
            "938/938 [==============================] - 6s 7ms/step - loss: 0.2782 - accuracy: 0.9000 - val_loss: 0.2862 - val_accuracy: 0.8947 - lr: 0.0010\n",
            "Epoch 19/50\n",
            "938/938 [==============================] - 7s 7ms/step - loss: 0.2762 - accuracy: 0.8989 - val_loss: 0.2929 - val_accuracy: 0.8895 - lr: 0.0010\n",
            "Epoch 20/50\n",
            "938/938 [==============================] - 6s 7ms/step - loss: 0.2748 - accuracy: 0.9004 - val_loss: 0.2910 - val_accuracy: 0.8911 - lr: 0.0010\n",
            "Epoch 21/50\n",
            "938/938 [==============================] - 7s 8ms/step - loss: 0.2726 - accuracy: 0.9011 - val_loss: 0.2819 - val_accuracy: 0.9002 - lr: 0.0010\n",
            "Epoch 22/50\n",
            "938/938 [==============================] - 6s 6ms/step - loss: 0.2558 - accuracy: 0.9065 - val_loss: 0.2707 - val_accuracy: 0.9027 - lr: 5.0000e-04\n",
            "Epoch 23/50\n",
            "938/938 [==============================] - 7s 7ms/step - loss: 0.2527 - accuracy: 0.9088 - val_loss: 0.2609 - val_accuracy: 0.9068 - lr: 5.0000e-04\n",
            "Epoch 24/50\n",
            "938/938 [==============================] - 6s 6ms/step - loss: 0.2497 - accuracy: 0.9089 - val_loss: 0.3389 - val_accuracy: 0.8779 - lr: 5.0000e-04\n",
            "Epoch 25/50\n",
            "938/938 [==============================] - 8s 8ms/step - loss: 0.2482 - accuracy: 0.9097 - val_loss: 0.2729 - val_accuracy: 0.9021 - lr: 5.0000e-04\n",
            "Epoch 26/50\n",
            "938/938 [==============================] - 6s 6ms/step - loss: 0.2439 - accuracy: 0.9117 - val_loss: 0.2692 - val_accuracy: 0.9041 - lr: 5.0000e-04\n",
            "Epoch 27/50\n",
            "938/938 [==============================] - 7s 8ms/step - loss: 0.2433 - accuracy: 0.9113 - val_loss: 0.2531 - val_accuracy: 0.9118 - lr: 5.0000e-04\n",
            "Epoch 28/50\n",
            "938/938 [==============================] - 6s 7ms/step - loss: 0.2384 - accuracy: 0.9132 - val_loss: 0.2505 - val_accuracy: 0.9128 - lr: 5.0000e-04\n",
            "Epoch 29/50\n",
            "938/938 [==============================] - 7s 8ms/step - loss: 0.2384 - accuracy: 0.9126 - val_loss: 0.2574 - val_accuracy: 0.9105 - lr: 5.0000e-04\n",
            "Epoch 30/50\n",
            "938/938 [==============================] - 6s 7ms/step - loss: 0.2342 - accuracy: 0.9148 - val_loss: 0.2566 - val_accuracy: 0.9089 - lr: 5.0000e-04\n",
            "Epoch 31/50\n",
            "938/938 [==============================] - 7s 8ms/step - loss: 0.2365 - accuracy: 0.9141 - val_loss: 0.2560 - val_accuracy: 0.9091 - lr: 5.0000e-04\n",
            "Epoch 32/50\n",
            "938/938 [==============================] - 6s 7ms/step - loss: 0.2344 - accuracy: 0.9152 - val_loss: 0.2579 - val_accuracy: 0.9079 - lr: 5.0000e-04\n",
            "Epoch 33/50\n",
            "938/938 [==============================] - 7s 7ms/step - loss: 0.2337 - accuracy: 0.9157 - val_loss: 0.2815 - val_accuracy: 0.8968 - lr: 5.0000e-04\n",
            "Epoch 34/50\n",
            "938/938 [==============================] - 7s 7ms/step - loss: 0.2256 - accuracy: 0.9172 - val_loss: 0.2453 - val_accuracy: 0.9136 - lr: 2.5000e-04\n",
            "Epoch 35/50\n",
            "938/938 [==============================] - 6s 7ms/step - loss: 0.2195 - accuracy: 0.9187 - val_loss: 0.2626 - val_accuracy: 0.9066 - lr: 2.5000e-04\n",
            "Epoch 36/50\n",
            "938/938 [==============================] - 7s 7ms/step - loss: 0.2221 - accuracy: 0.9204 - val_loss: 0.2452 - val_accuracy: 0.9130 - lr: 2.5000e-04\n",
            "Epoch 37/50\n",
            "938/938 [==============================] - 6s 6ms/step - loss: 0.2231 - accuracy: 0.9190 - val_loss: 0.2411 - val_accuracy: 0.9149 - lr: 2.5000e-04\n",
            "Epoch 38/50\n",
            "938/938 [==============================] - 7s 7ms/step - loss: 0.2189 - accuracy: 0.9201 - val_loss: 0.2437 - val_accuracy: 0.9138 - lr: 2.5000e-04\n",
            "Epoch 39/50\n",
            "938/938 [==============================] - 6s 6ms/step - loss: 0.2181 - accuracy: 0.9203 - val_loss: 0.2458 - val_accuracy: 0.9156 - lr: 2.5000e-04\n",
            "Epoch 40/50\n",
            "938/938 [==============================] - 7s 7ms/step - loss: 0.2158 - accuracy: 0.9210 - val_loss: 0.2456 - val_accuracy: 0.9172 - lr: 2.5000e-04\n",
            "Epoch 41/50\n",
            "938/938 [==============================] - 6s 6ms/step - loss: 0.2172 - accuracy: 0.9212 - val_loss: 0.2451 - val_accuracy: 0.9143 - lr: 2.5000e-04\n",
            "Epoch 42/50\n",
            "938/938 [==============================] - 7s 7ms/step - loss: 0.2161 - accuracy: 0.9214 - val_loss: 0.2429 - val_accuracy: 0.9159 - lr: 2.5000e-04\n",
            "Epoch 43/50\n",
            "938/938 [==============================] - 6s 7ms/step - loss: 0.2117 - accuracy: 0.9228 - val_loss: 0.2454 - val_accuracy: 0.9133 - lr: 1.2500e-04\n",
            "Epoch 44/50\n",
            "938/938 [==============================] - 7s 8ms/step - loss: 0.2113 - accuracy: 0.9227 - val_loss: 0.2415 - val_accuracy: 0.9164 - lr: 1.2500e-04\n",
            "Epoch 45/50\n",
            "938/938 [==============================] - 6s 7ms/step - loss: 0.2139 - accuracy: 0.9229 - val_loss: 0.2434 - val_accuracy: 0.9138 - lr: 1.2500e-04\n",
            "Epoch 46/50\n",
            "938/938 [==============================] - 7s 7ms/step - loss: 0.2097 - accuracy: 0.9234 - val_loss: 0.2407 - val_accuracy: 0.9172 - lr: 1.2500e-04\n",
            "Epoch 47/50\n",
            "938/938 [==============================] - 6s 7ms/step - loss: 0.2080 - accuracy: 0.9236 - val_loss: 0.2405 - val_accuracy: 0.9184 - lr: 1.2500e-04\n",
            "Epoch 48/50\n",
            "938/938 [==============================] - 7s 8ms/step - loss: 0.2126 - accuracy: 0.9223 - val_loss: 0.2471 - val_accuracy: 0.9137 - lr: 1.2500e-04\n",
            "Epoch 49/50\n",
            "938/938 [==============================] - 6s 7ms/step - loss: 0.2087 - accuracy: 0.9243 - val_loss: 0.2463 - val_accuracy: 0.9133 - lr: 1.2500e-04\n",
            "Epoch 50/50\n",
            "938/938 [==============================] - 7s 8ms/step - loss: 0.2128 - accuracy: 0.9223 - val_loss: 0.2390 - val_accuracy: 0.9166 - lr: 1.2500e-04\n"
          ]
        }
      ],
      "source": [
        "hist = model.fit(\n",
        "    X_train, y_train,\n",
        "    epochs=50,\n",
        "    batch_size=64,\n",
        "    validation_data=(X_test, y_test),\n",
        "    callbacks=[early_stopping, reduce_lr]\n",
        ")"
      ]
    },
    {
      "cell_type": "code",
      "execution_count": 39,
      "metadata": {
        "colab": {
          "base_uri": "https://localhost:8080/",
          "height": 430
        },
        "id": "CAJ7bmlvthG-",
        "outputId": "8cfa97d5-323c-4972-c41c-0ce12737d0a0"
      },
      "outputs": [
        {
          "output_type": "display_data",
          "data": {
            "text/plain": [
              "<Figure size 640x480 with 1 Axes>"
            ],
            "image/png": "[encoded data removed]"
          },
          "metadata": {}
        }
      ],
      "source": [
        "plt.figure()\n",
        "plt.plot(hist.history[\"loss\"], label=\"Eğitim Loss\")\n",
        "plt.plot(hist.history[\"val_loss\"], label=\"Val Loss\")\n",
        "plt.legend()\n",
        "plt.show()"
      ]
    },
    {
      "cell_type": "code",
      "execution_count": 40,
      "metadata": {
        "colab": {
          "base_uri": "https://localhost:8080/",
          "height": 430
        },
        "id": "2L_RDVipv5H2",
        "outputId": "118d362b-95e9-4454-c7ef-910b486702e3"
      },
      "outputs": [
        {
          "output_type": "display_data",
          "data": {
            "text/plain": [
              "<Figure size 640x480 with 1 Axes>"
            ],
            "image/png": "[encoded data removed]"
          },
          "metadata": {}
        }
      ],
      "source": [
        "plt.figure()\n",
        "plt.plot(hist.history[\"accuracy\"], label=\"Eğitim accuracy\")\n",
        "plt.plot(hist.history[\"val_accuracy\"], label=\"Val accuracy\")\n",
        "plt.legend()\n",
        "plt.show()"
      ]
    },
    {
      "cell_type": "code",
      "execution_count": 41,
      "metadata": {
        "colab": {
          "base_uri": "https://localhost:8080/"
        },
        "id": "fUq2u1J_fIeJ",
        "outputId": "9e62d767-f28f-46f9-dcb7-51bd2a759d18"
      },
      "outputs": [
        {
          "output_type": "stream",
          "name": "stdout",
          "text": [
            "313/313 [==============================] - 1s 2ms/step\n"
          ]
        },
        {
          "output_type": "execute_result",
          "data": {
            "text/plain": [
              "array([[845,   1,  27,  12,   2,   1, 106,   0,   6,   0],\n",
              "       [  0, 977,   2,  14,   1,   0,   4,   0,   2,   0],\n",
              "       [ 12,   1, 897,  10,  33,   0,  47,   0,   0,   0],\n",
              "       [  6,   5,  17, 914,  24,   0,  34,   0,   0,   0],\n",
              "       [  1,   0,  38,  21, 871,   0,  67,   0,   2,   0],\n",
              "       [  0,   0,   0,   2,   0, 977,   0,  10,   0,  11],\n",
              "       [ 77,   0,  60,  23,  63,   0, 771,   0,   6,   0],\n",
              "       [  0,   0,   0,   0,   0,  11,   0, 965,   0,  24],\n",
              "       [  0,   0,   3,   3,   1,   2,   4,   0, 986,   1],\n",
              "       [  0,   0,   0,   0,   0,   3,   0,  33,   1, 963]])"
            ]
          },
          "metadata": {},
          "execution_count": 41
        }
      ],
      "source": [
        "y_pred=model.predict(X_test)\n",
        "\n",
        "y_pred_classes = np.argmax(y_pred, axis=1)\n",
        "y_true_classes = np.argmax(y_test, axis=1)\n",
        "\n",
        "cm = confusion_matrix(y_true_classes, y_pred_classes)\n",
        "cm"
      ]
    }
  ],
  "metadata": {
    "accelerator": "GPU",
    "colab": {
      "gpuType": "T4",
      "provenance": []
    },
    "kernelspec": {
      "display_name": "Python 3",
      "name": "python3"
    },
    "language_info": {
      "name": "python"
    }
  },
  "nbformat": 4,
  "nbformat_minor": 0
}